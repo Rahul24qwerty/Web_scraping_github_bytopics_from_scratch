{
 "cells": [
  {
   "cell_type": "markdown",
   "id": "5b3d921f-a829-4bad-ac23-a20afbce6deb",
   "metadata": {},
   "source": [
    "# Top repositories of Github by Topics"
   ]
  },
  {
   "cell_type": "code",
   "execution_count": null,
   "id": "907cb76e-f438-4bc2-8794-7055aa3d8553",
   "metadata": {},
   "outputs": [],
   "source": []
  },
  {
   "cell_type": "markdown",
   "id": "b4a7f5bb-752b-41cf-927a-8fa16ef3ec37",
   "metadata": {},
   "source": [
    "## Pick a website and describe your objective\n",
    "1. Browse through different sites and pick on to scrape.Check the project ideas section for inspiration.\n",
    "2. Identify the information you'd like to scrape from the site. Decide the format of the output CSV file.\n",
    "3. Summarize your project idea and outline your strategy in a Juptyer notebook. Use the \"New\" button above.\r\n"
   ]
  },
  {
   "cell_type": "markdown",
   "id": "d211d4a8-2c32-4ccf-81c9-797127a547a4",
   "metadata": {},
   "source": [
    "#### Outline:\n",
    "\n",
    "1. We are going to scrape https://github.com/topics\n",
    "2. we will get a list of topics ,for each topic - we will get topic title,topic page URL and topic description\n",
    "3. From each topic we will get top 25 repositories from each topic.\n",
    "4. From each repository,we will grab the repo name,username,stars and repo URL\n",
    "5. For each topic we will create a csv file "
   ]
  },
  {
   "cell_type": "markdown",
   "id": "866707bb-138e-4156-8414-44a3418450e6",
   "metadata": {},
   "source": [
    "## Use the requests library to download web pages.\r\n"
   ]
  },
  {
   "cell_type": "code",
   "execution_count": 21,
   "id": "27ceb9f4-7ef4-48df-9bf7-4a0e7285904a",
   "metadata": {},
   "outputs": [
    {
     "name": "stdout",
     "output_type": "stream",
     "text": [
      "Requirement already satisfied: requests in c:\\users\\admin\\anaconda3\\lib\\site-packages (2.32.3)\n",
      "Requirement already satisfied: charset-normalizer<4,>=2 in c:\\users\\admin\\anaconda3\\lib\\site-packages (from requests) (2.0.4)\n",
      "Requirement already satisfied: idna<4,>=2.5 in c:\\users\\admin\\anaconda3\\lib\\site-packages (from requests) (3.7)\n",
      "Requirement already satisfied: urllib3<3,>=1.21.1 in c:\\users\\admin\\anaconda3\\lib\\site-packages (from requests) (2.2.2)\n",
      "Requirement already satisfied: certifi>=2017.4.17 in c:\\users\\admin\\anaconda3\\lib\\site-packages (from requests) (2024.7.4)\n"
     ]
    }
   ],
   "source": [
    "!pip install requests --upgrade"
   ]
  },
  {
   "cell_type": "code",
   "execution_count": 23,
   "id": "0d6ac93f-4c87-41bd-a226-eca90644810e",
   "metadata": {},
   "outputs": [],
   "source": [
    "import requests"
   ]
  },
  {
   "cell_type": "code",
   "execution_count": 27,
   "id": "5634d0ee-4658-4a44-a0ce-3958c048b7ef",
   "metadata": {},
   "outputs": [],
   "source": [
    "topics_URL = 'https://github.com/topics'"
   ]
  },
  {
   "cell_type": "code",
   "execution_count": 29,
   "id": "2734d0ed-6f52-47fc-a920-1da8c28e2c04",
   "metadata": {},
   "outputs": [],
   "source": [
    "response = requests.get(topics_URL)   # requests.get creates a response object\n",
    "# Now requests has opened the URL , taken those webpage and downloaded it"
   ]
  },
  {
   "cell_type": "code",
   "execution_count": 31,
   "id": "cb36c322-5ae7-40d3-adb6-6173db6a36df",
   "metadata": {},
   "outputs": [
    {
     "data": {
      "text/plain": [
       "200"
      ]
     },
     "execution_count": 31,
     "metadata": {},
     "output_type": "execute_result"
    }
   ],
   "source": [
    "# to check whether your request was successful or not,check the status_code for response\n",
    "response.status_code     # successful response status_code lies between 200-299\n",
    "# more about status codes,google HTTP STATUS CODES"
   ]
  },
  {
   "cell_type": "code",
   "execution_count": 33,
   "id": "e4f9c169-6c6f-4017-9dca-c8f7c8f0aaa5",
   "metadata": {},
   "outputs": [],
   "source": [
    "# where are the contents of the webpage ,it's in response.text (don't print the entire content)\n",
    "page_contents = response.text"
   ]
  },
  {
   "cell_type": "code",
   "execution_count": 35,
   "id": "2a41dd2e-f9d9-4559-a2dd-ca9f2f580347",
   "metadata": {},
   "outputs": [
    {
     "data": {
      "text/plain": [
       "'\\n\\n<!DOCTYPE html>\\n<html\\n  lang=\"en\"\\n  \\n  data-color-mode=\"auto\" data-light-theme=\"light\" data-dark-theme=\"dark\"\\n  data-a11y-animated-images=\"system\" data-a11y-link-underlines=\"true\"\\n  \\n  >\\n\\n\\n\\n  <head>\\n    <meta charset=\"utf-8\">\\n  <link rel=\"dns-prefetch\" href=\"https://github.githubassets.com\">\\n  <link rel=\"dns-prefetch\" href=\"https://avatars.githubusercontent.com\">\\n  <link rel=\"dns-prefetch\" href=\"https://github-cloud.s3.amazonaws.com\">\\n  <link rel=\"dns-prefetch\" href=\"https://user-images.githubusercontent.com/\">\\n  <link rel=\"preconnect\" href=\"https://github.githubassets.com\" crossorigin>\\n  <link rel=\"preconnect\" href=\"https://avatars.githubusercontent.com\">\\n\\n  \\n\\n  <link crossorigin=\"anonymous\" media=\"all\" rel=\"stylesheet\" href=\"https://github.githubassets.com/assets/light-3e154969b9f9.css\" /><link crossorigin=\"anonymous\" media=\"all\" rel=\"stylesheet\" href=\"https://github.githubassets.com/assets/dark-9c5b7a476542.css\" /><link data-color-theme=\"dark_dimmed\" crossorigin=\"anonymous\" media='"
      ]
     },
     "execution_count": 35,
     "metadata": {},
     "output_type": "execute_result"
    }
   ],
   "source": [
    "# printing the first 1000 chars of the page_contents\n",
    "page_contents[:1000]\n",
    "# what you are seeing below,is written in a language called html"
   ]
  },
  {
   "cell_type": "code",
   "execution_count": 39,
   "id": "dbc4594b-149a-4add-b532-5df33ff03ea7",
   "metadata": {},
   "outputs": [],
   "source": [
    "# you can save the page_contents file to html\n",
    "with open('webpage.html','w' , encoding = 'utf-8') as f:\n",
    "    f.write(page_contents)"
   ]
  },
  {
   "cell_type": "markdown",
   "id": "91d83412-131e-405a-9cdb-ef5a76e24049",
   "metadata": {},
   "source": [
    "## Use Beautiful Soup to parse and extract informationired."
   ]
  },
  {
   "cell_type": "code",
   "execution_count": 41,
   "id": "95e01b10-3e60-4532-894f-753cb1e63c34",
   "metadata": {},
   "outputs": [
    {
     "name": "stdout",
     "output_type": "stream",
     "text": [
      "Note: you may need to restart the kernel to use updated packages.\n"
     ]
    }
   ],
   "source": [
    "pip install beautifulsoup4 --upgrade --quiet"
   ]
  },
  {
   "cell_type": "code",
   "execution_count": 45,
   "id": "47941359-415b-4043-969d-e6cf2c10c7fe",
   "metadata": {},
   "outputs": [],
   "source": [
    "from bs4 import BeautifulSoup"
   ]
  },
  {
   "cell_type": "code",
   "execution_count": 47,
   "id": "0f979e91-9966-431f-9007-3ab3a07e2bf0",
   "metadata": {},
   "outputs": [],
   "source": [
    "soup = BeautifulSoup(page_contents , 'html.parser')   # parsing our html content which is there under the name page_contents using BeautifulSoup"
   ]
  },
  {
   "cell_type": "code",
   "execution_count": 49,
   "id": "12045336-a1bf-4f17-a63b-c4daf6a303b0",
   "metadata": {},
   "outputs": [
    {
     "data": {
      "text/plain": [
       "bs4.BeautifulSoup"
      ]
     },
     "execution_count": 49,
     "metadata": {},
     "output_type": "execute_result"
    }
   ],
   "source": [
    "type(soup)"
   ]
  },
  {
   "cell_type": "code",
   "execution_count": 59,
   "id": "8edb1331-0853-443b-8878-c68c26f2c594",
   "metadata": {},
   "outputs": [
    {
     "data": {
      "text/plain": [
       "30"
      ]
     },
     "execution_count": 59,
     "metadata": {},
     "output_type": "execute_result"
    }
   ],
   "source": [
    "selection_class = \"f3 lh-condensed mb-0 mt-1 Link--primary\"   # extracted this from the inspect from the browser\n",
    "# 'selection_class- this is the class of the heading og \"3D\" in the github topics\n",
    "topic_title_tags =soup.find_all('p' ,{'class': selection_class})\n",
    "len(topic_title_tags)"
   ]
  },
  {
   "cell_type": "code",
   "execution_count": 61,
   "id": "3d8a4d8f-a5cf-45f2-9954-ea9c8f94d2a4",
   "metadata": {},
   "outputs": [
    {
     "data": {
      "text/plain": [
       "[<p class=\"f3 lh-condensed mb-0 mt-1 Link--primary\">3D</p>,\n",
       " <p class=\"f3 lh-condensed mb-0 mt-1 Link--primary\">Ajax</p>,\n",
       " <p class=\"f3 lh-condensed mb-0 mt-1 Link--primary\">Algorithm</p>,\n",
       " <p class=\"f3 lh-condensed mb-0 mt-1 Link--primary\">Amp</p>,\n",
       " <p class=\"f3 lh-condensed mb-0 mt-1 Link--primary\">Android</p>,\n",
       " <p class=\"f3 lh-condensed mb-0 mt-1 Link--primary\">Angular</p>,\n",
       " <p class=\"f3 lh-condensed mb-0 mt-1 Link--primary\">Ansible</p>,\n",
       " <p class=\"f3 lh-condensed mb-0 mt-1 Link--primary\">API</p>,\n",
       " <p class=\"f3 lh-condensed mb-0 mt-1 Link--primary\">Arduino</p>,\n",
       " <p class=\"f3 lh-condensed mb-0 mt-1 Link--primary\">ASP.NET</p>,\n",
       " <p class=\"f3 lh-condensed mb-0 mt-1 Link--primary\">Awesome Lists</p>,\n",
       " <p class=\"f3 lh-condensed mb-0 mt-1 Link--primary\">Amazon Web Services</p>,\n",
       " <p class=\"f3 lh-condensed mb-0 mt-1 Link--primary\">Azure</p>,\n",
       " <p class=\"f3 lh-condensed mb-0 mt-1 Link--primary\">Babel</p>,\n",
       " <p class=\"f3 lh-condensed mb-0 mt-1 Link--primary\">Bash</p>,\n",
       " <p class=\"f3 lh-condensed mb-0 mt-1 Link--primary\">Bitcoin</p>,\n",
       " <p class=\"f3 lh-condensed mb-0 mt-1 Link--primary\">Bootstrap</p>,\n",
       " <p class=\"f3 lh-condensed mb-0 mt-1 Link--primary\">Bot</p>,\n",
       " <p class=\"f3 lh-condensed mb-0 mt-1 Link--primary\">C</p>,\n",
       " <p class=\"f3 lh-condensed mb-0 mt-1 Link--primary\">Chrome</p>,\n",
       " <p class=\"f3 lh-condensed mb-0 mt-1 Link--primary\">Chrome extension</p>,\n",
       " <p class=\"f3 lh-condensed mb-0 mt-1 Link--primary\">Command-line interface</p>,\n",
       " <p class=\"f3 lh-condensed mb-0 mt-1 Link--primary\">Clojure</p>,\n",
       " <p class=\"f3 lh-condensed mb-0 mt-1 Link--primary\">Code quality</p>,\n",
       " <p class=\"f3 lh-condensed mb-0 mt-1 Link--primary\">Code review</p>,\n",
       " <p class=\"f3 lh-condensed mb-0 mt-1 Link--primary\">Compiler</p>,\n",
       " <p class=\"f3 lh-condensed mb-0 mt-1 Link--primary\">Continuous integration</p>,\n",
       " <p class=\"f3 lh-condensed mb-0 mt-1 Link--primary\">C++</p>,\n",
       " <p class=\"f3 lh-condensed mb-0 mt-1 Link--primary\">Cryptocurrency</p>,\n",
       " <p class=\"f3 lh-condensed mb-0 mt-1 Link--primary\">Crystal</p>]"
      ]
     },
     "execution_count": 61,
     "metadata": {},
     "output_type": "execute_result"
    }
   ],
   "source": [
    "topic_title_tags   # we have obtained the p_tags corresponding to 30 topics titiles"
   ]
  },
  {
   "cell_type": "code",
   "execution_count": 111,
   "id": "90a0b3dc-57f7-451f-826b-8cf6eb4961f9",
   "metadata": {},
   "outputs": [],
   "source": [
    "topic_title_tags_lst = [topic_title_tags[i].text for i in range(len(topic_title_tags))]"
   ]
  },
  {
   "cell_type": "code",
   "execution_count": 113,
   "id": "a7ec194e-f286-48f9-867c-7f7de56e4f68",
   "metadata": {},
   "outputs": [
    {
     "data": {
      "text/plain": [
       "['3D', 'Ajax', 'Algorithm', 'Amp', 'Android']"
      ]
     },
     "execution_count": 113,
     "metadata": {},
     "output_type": "execute_result"
    }
   ],
   "source": [
    "topic_title_tags_lst[:5]   # we got the list of all the titles"
   ]
  },
  {
   "cell_type": "code",
   "execution_count": 63,
   "id": "994b0c4d-d174-4b6f-bede-ee08455446d0",
   "metadata": {},
   "outputs": [
    {
     "data": {
      "text/plain": [
       "30"
      ]
     },
     "execution_count": 63,
     "metadata": {},
     "output_type": "execute_result"
    }
   ],
   "source": [
    "# lets get to the topic description which is written just below the topic titles \n",
    "desc_class = \"f5 color-fg-muted mb-0 mt-1\"\n",
    "topic_desc_tags = soup.find_all('p' , {'class': desc_class})    # 'p' becoz it also contains the p-tags\n",
    "len(topic_desc_tags)"
   ]
  },
  {
   "cell_type": "code",
   "execution_count": 65,
   "id": "1b959a06-ab25-4ac8-ae6b-179547f456cb",
   "metadata": {},
   "outputs": [
    {
     "data": {
      "text/plain": [
       "[<p class=\"f5 color-fg-muted mb-0 mt-1\">\n",
       "           3D refers to the use of three-dimensional graphics, modeling, and animation in various industries.\n",
       "         </p>,\n",
       " <p class=\"f5 color-fg-muted mb-0 mt-1\">\n",
       "           Ajax is a technique for creating interactive web applications.\n",
       "         </p>,\n",
       " <p class=\"f5 color-fg-muted mb-0 mt-1\">\n",
       "           Algorithms are self-contained sequences that carry out a variety of tasks.\n",
       "         </p>,\n",
       " <p class=\"f5 color-fg-muted mb-0 mt-1\">\n",
       "           Amp is a non-blocking concurrency library for PHP.\n",
       "         </p>,\n",
       " <p class=\"f5 color-fg-muted mb-0 mt-1\">\n",
       "           Android is an operating system built by Google designed for mobile devices.\n",
       "         </p>]"
      ]
     },
     "execution_count": 65,
     "metadata": {},
     "output_type": "execute_result"
    }
   ],
   "source": [
    "topic_desc_tags[:5]   # let's see the first five "
   ]
  },
  {
   "cell_type": "code",
   "execution_count": 107,
   "id": "21c34f46-51cc-4309-bf42-eb31051c72db",
   "metadata": {},
   "outputs": [],
   "source": [
    "# creating a list of all the descriptions of all the topic titles\n",
    "topic_desc_tags_lst = [topic_desc_tags[i].text.replace('\\n' , '').strip() for i in range(len(topic_desc_tags))]"
   ]
  },
  {
   "cell_type": "code",
   "execution_count": 109,
   "id": "24cb4c3a-1ba4-466f-a113-68fdbc996a65",
   "metadata": {},
   "outputs": [
    {
     "data": {
      "text/plain": [
       "['3D refers to the use of three-dimensional graphics, modeling, and animation in various industries.',\n",
       " 'Ajax is a technique for creating interactive web applications.',\n",
       " 'Algorithms are self-contained sequences that carry out a variety of tasks.',\n",
       " 'Amp is a non-blocking concurrency library for PHP.',\n",
       " 'Android is an operating system built by Google designed for mobile devices.']"
      ]
     },
     "execution_count": 109,
     "metadata": {},
     "output_type": "execute_result"
    }
   ],
   "source": [
    "topic_desc_tags_lst[:5]     # we got the description list"
   ]
  },
  {
   "cell_type": "code",
   "execution_count": 99,
   "id": "4ba33760-9e40-4ef8-9a21-4ece5a81ee10",
   "metadata": {},
   "outputs": [],
   "source": [
    "# Now we want the URL corresponding to each topic title tags i.e. href \n",
    "# first tag in \"topic_title_tag corresponds to '3D'\n",
    "#topic_title_tags0 = topic_title_tags[0]\n",
    "\n",
    "# creating alist of all the extensions of URLs of each topic titles\n",
    "topic_URL_tags_lst = [topic_title_tags[i].parent['href'] for i in range(len(topic_title_tags))] "
   ]
  },
  {
   "cell_type": "code",
   "execution_count": 101,
   "id": "98d71fbf-378b-448c-85e3-dfd2145c6126",
   "metadata": {},
   "outputs": [
    {
     "data": {
      "text/plain": [
       "['/topics/3d',\n",
       " '/topics/ajax',\n",
       " '/topics/algorithm',\n",
       " '/topics/amphp',\n",
       " '/topics/android']"
      ]
     },
     "execution_count": 101,
     "metadata": {},
     "output_type": "execute_result"
    }
   ],
   "source": [
    "topic_URL_tags_lst[:5]   # we got the extented URL list"
   ]
  },
  {
   "cell_type": "code",
   "execution_count": 119,
   "id": "e3901f2d-97aa-48e0-a0b1-6e367fcd66a7",
   "metadata": {},
   "outputs": [],
   "source": [
    "# let's amke the complete URL for individual topics that are in the list\n",
    "URL_lst = ['https://github.com'+topic_URL_tags_lst[i] for i in range(len(topic_URL_tags_lst))]"
   ]
  },
  {
   "cell_type": "code",
   "execution_count": 121,
   "id": "ae5c35ec-3d5d-4800-833d-01825b1347a4",
   "metadata": {},
   "outputs": [
    {
     "data": {
      "text/plain": [
       "['https://github.com/topics/3d',\n",
       " 'https://github.com/topics/ajax',\n",
       " 'https://github.com/topics/algorithm',\n",
       " 'https://github.com/topics/amphp',\n",
       " 'https://github.com/topics/android']"
      ]
     },
     "execution_count": 121,
     "metadata": {},
     "output_type": "execute_result"
    }
   ],
   "source": [
    "URL_lst[:5]  # Now we got the Extended URL for the individual topics"
   ]
  },
  {
   "cell_type": "code",
   "execution_count": 123,
   "id": "74df234a-c96f-4f19-abb0-544fc637a9ec",
   "metadata": {},
   "outputs": [],
   "source": [
    "import pandas as pd"
   ]
  },
  {
   "cell_type": "code",
   "execution_count": 125,
   "id": "c0df1a72-68f5-4b41-b23d-6889e0fa1463",
   "metadata": {},
   "outputs": [],
   "source": [
    "topic_df = pd.DataFrame({'Title' : topic_title_tags_lst ,\n",
    "                        'Description': topic_desc_tags_lst ,\n",
    "                        'URLs' : URL_lst})"
   ]
  },
  {
   "cell_type": "code",
   "execution_count": 127,
   "id": "129ce6a2-2f0f-421d-b2e7-2f3c33e4eb0d",
   "metadata": {},
   "outputs": [
    {
     "data": {
      "text/html": [
       "<div>\n",
       "<style scoped>\n",
       "    .dataframe tbody tr th:only-of-type {\n",
       "        vertical-align: middle;\n",
       "    }\n",
       "\n",
       "    .dataframe tbody tr th {\n",
       "        vertical-align: top;\n",
       "    }\n",
       "\n",
       "    .dataframe thead th {\n",
       "        text-align: right;\n",
       "    }\n",
       "</style>\n",
       "<table border=\"1\" class=\"dataframe\">\n",
       "  <thead>\n",
       "    <tr style=\"text-align: right;\">\n",
       "      <th></th>\n",
       "      <th>Title</th>\n",
       "      <th>Description</th>\n",
       "      <th>URLs</th>\n",
       "    </tr>\n",
       "  </thead>\n",
       "  <tbody>\n",
       "    <tr>\n",
       "      <th>0</th>\n",
       "      <td>3D</td>\n",
       "      <td>3D refers to the use of three-dimensional grap...</td>\n",
       "      <td>https://github.com/topics/3d</td>\n",
       "    </tr>\n",
       "    <tr>\n",
       "      <th>1</th>\n",
       "      <td>Ajax</td>\n",
       "      <td>Ajax is a technique for creating interactive w...</td>\n",
       "      <td>https://github.com/topics/ajax</td>\n",
       "    </tr>\n",
       "    <tr>\n",
       "      <th>2</th>\n",
       "      <td>Algorithm</td>\n",
       "      <td>Algorithms are self-contained sequences that c...</td>\n",
       "      <td>https://github.com/topics/algorithm</td>\n",
       "    </tr>\n",
       "    <tr>\n",
       "      <th>3</th>\n",
       "      <td>Amp</td>\n",
       "      <td>Amp is a non-blocking concurrency library for ...</td>\n",
       "      <td>https://github.com/topics/amphp</td>\n",
       "    </tr>\n",
       "    <tr>\n",
       "      <th>4</th>\n",
       "      <td>Android</td>\n",
       "      <td>Android is an operating system built by Google...</td>\n",
       "      <td>https://github.com/topics/android</td>\n",
       "    </tr>\n",
       "  </tbody>\n",
       "</table>\n",
       "</div>"
      ],
      "text/plain": [
       "       Title                                        Description  \\\n",
       "0         3D  3D refers to the use of three-dimensional grap...   \n",
       "1       Ajax  Ajax is a technique for creating interactive w...   \n",
       "2  Algorithm  Algorithms are self-contained sequences that c...   \n",
       "3        Amp  Amp is a non-blocking concurrency library for ...   \n",
       "4    Android  Android is an operating system built by Google...   \n",
       "\n",
       "                                  URLs  \n",
       "0         https://github.com/topics/3d  \n",
       "1       https://github.com/topics/ajax  \n",
       "2  https://github.com/topics/algorithm  \n",
       "3      https://github.com/topics/amphp  \n",
       "4    https://github.com/topics/android  "
      ]
     },
     "execution_count": 127,
     "metadata": {},
     "output_type": "execute_result"
    }
   ],
   "source": [
    "topic_df.head()  # we have created a dataframe based on the info we got"
   ]
  },
  {
   "cell_type": "markdown",
   "id": "99b8054a-48a9-49ec-86bf-13a87843be00",
   "metadata": {},
   "source": [
    "## Create CSV file(s) with the extracted information."
   ]
  },
  {
   "cell_type": "code",
   "execution_count": 131,
   "id": "070b8cf7-be8c-41e0-a078-af25aa79f1e6",
   "metadata": {},
   "outputs": [],
   "source": [
    "# Let's convert this dataframe to csv file\n",
    "topic_df.to_csv('titles.csv'  , index = None)      # titles.csv is the name of the file we are assigning to the csv file \n",
    "# this creates a csv file in our folder\n",
    "# index = None will remove all the indices in the csv files "
   ]
  },
  {
   "cell_type": "markdown",
   "id": "a10f8bb8-3af8-4b21-b3b0-c88044a482f5",
   "metadata": {},
   "source": [
    "## Getting information out of the individual topic pages"
   ]
  },
  {
   "cell_type": "code",
   "execution_count": 134,
   "id": "61e64eb6-fc6e-4bb7-98f2-46e8594ddbe0",
   "metadata": {},
   "outputs": [],
   "source": [
    "# Getting inside the first URL"
   ]
  },
  {
   "cell_type": "code",
   "execution_count": 138,
   "id": "01c1ce6c-dbdf-41b9-a091-a5879ed9bdd6",
   "metadata": {},
   "outputs": [
    {
     "data": {
      "text/plain": [
       "'https://github.com/topics/3d'"
      ]
     },
     "execution_count": 138,
     "metadata": {},
     "output_type": "execute_result"
    }
   ],
   "source": [
    "topic_page = URL_lst[0]\n",
    "topic_page"
   ]
  },
  {
   "cell_type": "code",
   "execution_count": 250,
   "id": "aff41229-3a4c-46ed-848d-d47f96f31b73",
   "metadata": {},
   "outputs": [
    {
     "data": {
      "text/plain": [
       "['https://github.com/topics/3d',\n",
       " 'https://github.com/topics/ajax',\n",
       " 'https://github.com/topics/algorithm',\n",
       " 'https://github.com/topics/amphp',\n",
       " 'https://github.com/topics/android']"
      ]
     },
     "execution_count": 250,
     "metadata": {},
     "output_type": "execute_result"
    }
   ],
   "source": [
    "URL_lst[:5]"
   ]
  },
  {
   "cell_type": "code",
   "execution_count": 140,
   "id": "ab25ce38-a141-4666-8ccd-9f24ebb88294",
   "metadata": {},
   "outputs": [],
   "source": [
    "response = requests.get(topic_page)"
   ]
  },
  {
   "cell_type": "code",
   "execution_count": 142,
   "id": "63f1d620-88ca-423e-b66c-712c80e57a2b",
   "metadata": {},
   "outputs": [
    {
     "data": {
      "text/plain": [
       "200"
      ]
     },
     "execution_count": 142,
     "metadata": {},
     "output_type": "execute_result"
    }
   ],
   "source": [
    "# checking status code of our response\n",
    "response.status_code"
   ]
  },
  {
   "cell_type": "code",
   "execution_count": 144,
   "id": "0006008e-25ca-439f-9e64-4afc5b5a4528",
   "metadata": {},
   "outputs": [
    {
     "data": {
      "text/plain": [
       "510872"
      ]
     },
     "execution_count": 144,
     "metadata": {},
     "output_type": "execute_result"
    }
   ],
   "source": [
    "len(response.text)"
   ]
  },
  {
   "cell_type": "code",
   "execution_count": 148,
   "id": "668cda07-0864-4a5d-af3e-6f8ecb6e0488",
   "metadata": {},
   "outputs": [],
   "source": [
    "topic_doc = BeautifulSoup(response.text , 'html.parser')"
   ]
  },
  {
   "cell_type": "code",
   "execution_count": 150,
   "id": "c3e8e73f-eddf-4249-ad5c-c43a994a37ea",
   "metadata": {},
   "outputs": [],
   "source": [
    "topic_cls_selc = \"f3 color-fg-muted text-normal lh-condensed\"\n",
    "repo_tags = topic_doc.find_all('h3' , {'class': topic_cls_selc})     "
   ]
  },
  {
   "cell_type": "code",
   "execution_count": 154,
   "id": "f263e216-ff4a-4971-bdeb-18f0962ce124",
   "metadata": {},
   "outputs": [
    {
     "data": {
      "text/plain": [
       "20"
      ]
     },
     "execution_count": 154,
     "metadata": {},
     "output_type": "execute_result"
    }
   ],
   "source": [
    "len(repo_tags)"
   ]
  },
  {
   "cell_type": "code",
   "execution_count": 156,
   "id": "f30b292e-e733-40e4-94b4-3b458c99bd82",
   "metadata": {},
   "outputs": [
    {
     "data": {
      "text/plain": [
       "<h3 class=\"f3 color-fg-muted text-normal lh-condensed\">\n",
       "<a class=\"Link\" data-hydro-click='{\"event_type\":\"explore.click\",\"payload\":{\"click_context\":\"REPOSITORY_CARD\",\"click_target\":\"OWNER\",\"click_visual_representation\":\"REPOSITORY_OWNER_HEADING\",\"actor_id\":null,\"record_id\":97088,\"originating_url\":\"https://github.com/topics/3d\",\"user_id\":null}}' data-hydro-click-hmac=\"c72fbd5c69a8ee7c9c53a4e65de2b93c8fc7552dd793945819639bc165c0f0ba\" data-turbo=\"false\" data-view-component=\"true\" href=\"/mrdoob\">\n",
       "            mrdoob\n",
       "</a>          /\n",
       "          <a class=\"Link text-bold wb-break-word\" data-hydro-click='{\"event_type\":\"explore.click\",\"payload\":{\"click_context\":\"REPOSITORY_CARD\",\"click_target\":\"REPOSITORY\",\"click_visual_representation\":\"REPOSITORY_NAME_HEADING\",\"actor_id\":null,\"record_id\":576201,\"originating_url\":\"https://github.com/topics/3d\",\"user_id\":null}}' data-hydro-click-hmac=\"4a2667db3d63a1739c412e059e5da95afe419df83f70949b5d59dc3478f5c79a\" data-turbo=\"false\" data-view-component=\"true\" href=\"/mrdoob/three.js\">\n",
       "            three.js\n",
       "</a> </h3>"
      ]
     },
     "execution_count": 156,
     "metadata": {},
     "output_type": "execute_result"
    }
   ],
   "source": [
    "repo_tags[0]    # first repo tags\n",
    "# Inside this h3 class ,we have 2 'a-tags' . First a-tag corresponds to username and the second 'a-tag' corresponds to repository name and the URL\n",
    "# of that user "
   ]
  },
  {
   "cell_type": "code",
   "execution_count": 160,
   "id": "2f7727fe-44c9-435c-ac9c-eda04e82df55",
   "metadata": {},
   "outputs": [],
   "source": [
    "# finding a-tags inside the repo-tags\n",
    "a_tags = repo_tags[0].find_all('a')"
   ]
  },
  {
   "cell_type": "code",
   "execution_count": 162,
   "id": "c9997938-30cf-460a-9305-3fe0519511f2",
   "metadata": {},
   "outputs": [
    {
     "data": {
      "text/plain": [
       "[<a class=\"Link\" data-hydro-click='{\"event_type\":\"explore.click\",\"payload\":{\"click_context\":\"REPOSITORY_CARD\",\"click_target\":\"OWNER\",\"click_visual_representation\":\"REPOSITORY_OWNER_HEADING\",\"actor_id\":null,\"record_id\":97088,\"originating_url\":\"https://github.com/topics/3d\",\"user_id\":null}}' data-hydro-click-hmac=\"c72fbd5c69a8ee7c9c53a4e65de2b93c8fc7552dd793945819639bc165c0f0ba\" data-turbo=\"false\" data-view-component=\"true\" href=\"/mrdoob\">\n",
       "             mrdoob\n",
       " </a>,\n",
       " <a class=\"Link text-bold wb-break-word\" data-hydro-click='{\"event_type\":\"explore.click\",\"payload\":{\"click_context\":\"REPOSITORY_CARD\",\"click_target\":\"REPOSITORY\",\"click_visual_representation\":\"REPOSITORY_NAME_HEADING\",\"actor_id\":null,\"record_id\":576201,\"originating_url\":\"https://github.com/topics/3d\",\"user_id\":null}}' data-hydro-click-hmac=\"4a2667db3d63a1739c412e059e5da95afe419df83f70949b5d59dc3478f5c79a\" data-turbo=\"false\" data-view-component=\"true\" href=\"/mrdoob/three.js\">\n",
       "             three.js\n",
       " </a>]"
      ]
     },
     "execution_count": 162,
     "metadata": {},
     "output_type": "execute_result"
    }
   ],
   "source": [
    "a_tags    # as you can see ,here we got two a-tags"
   ]
  },
  {
   "cell_type": "code",
   "execution_count": 164,
   "id": "28e8c24d-09e1-46e9-b3d2-f1e6ee4d8c1a",
   "metadata": {},
   "outputs": [
    {
     "data": {
      "text/plain": [
       "'mrdoob'"
      ]
     },
     "execution_count": 164,
     "metadata": {},
     "output_type": "execute_result"
    }
   ],
   "source": [
    "# extracting the name of the user from the FIRST A-TAG\n",
    "a_tags[0].text.strip()"
   ]
  },
  {
   "cell_type": "code",
   "execution_count": 166,
   "id": "ba3447e2-b4dc-452f-bf6c-5896c5ab7621",
   "metadata": {},
   "outputs": [
    {
     "data": {
      "text/plain": [
       "<a class=\"Link text-bold wb-break-word\" data-hydro-click='{\"event_type\":\"explore.click\",\"payload\":{\"click_context\":\"REPOSITORY_CARD\",\"click_target\":\"REPOSITORY\",\"click_visual_representation\":\"REPOSITORY_NAME_HEADING\",\"actor_id\":null,\"record_id\":576201,\"originating_url\":\"https://github.com/topics/3d\",\"user_id\":null}}' data-hydro-click-hmac=\"4a2667db3d63a1739c412e059e5da95afe419df83f70949b5d59dc3478f5c79a\" data-turbo=\"false\" data-view-component=\"true\" href=\"/mrdoob/three.js\">\n",
       "            three.js\n",
       "</a>"
      ]
     },
     "execution_count": 166,
     "metadata": {},
     "output_type": "execute_result"
    }
   ],
   "source": [
    "a_tags[1]"
   ]
  },
  {
   "cell_type": "code",
   "execution_count": 168,
   "id": "63e33fa3-8d0c-4396-8ecb-a4bc7a91c344",
   "metadata": {},
   "outputs": [
    {
     "data": {
      "text/plain": [
       "'three.js'"
      ]
     },
     "execution_count": 168,
     "metadata": {},
     "output_type": "execute_result"
    }
   ],
   "source": [
    "# extracting the name of the repository name from the second A-Tag\n",
    "a_tags[1].text.strip()"
   ]
  },
  {
   "cell_type": "code",
   "execution_count": 170,
   "id": "0e2bfe05-a7a9-4723-81c5-8ec68499db00",
   "metadata": {},
   "outputs": [
    {
     "data": {
      "text/plain": [
       "'/mrdoob/three.js'"
      ]
     },
     "execution_count": 170,
     "metadata": {},
     "output_type": "execute_result"
    }
   ],
   "source": [
    "# extracting the link for the repository from the second A-Tag\n",
    "a_tags[1]['href']"
   ]
  },
  {
   "cell_type": "code",
   "execution_count": 210,
   "id": "9ac23483-0425-4cce-86d0-49d4dc77b5be",
   "metadata": {},
   "outputs": [],
   "source": [
    "star_tags = topic_doc.find_all('span' , {'class':\"Counter js-social-count\"})"
   ]
  },
  {
   "cell_type": "code",
   "execution_count": 212,
   "id": "5ef26a75-8350-49ab-a8a7-198136f38f11",
   "metadata": {},
   "outputs": [
    {
     "data": {
      "text/plain": [
       "20"
      ]
     },
     "execution_count": 212,
     "metadata": {},
     "output_type": "execute_result"
    }
   ],
   "source": [
    "len(star_tags)"
   ]
  },
  {
   "cell_type": "code",
   "execution_count": 216,
   "id": "7fcc433e-d90b-4564-abda-dcb308fbda87",
   "metadata": {},
   "outputs": [
    {
     "data": {
      "text/plain": [
       "<span aria-label=\"102009 users starred this repository\" class=\"Counter js-social-count\" data-plural-suffix=\"users starred this repository\" data-singular-suffix=\"user starred this repository\" data-turbo-replace=\"true\" data-view-component=\"true\" id=\"repo-stars-counter-star\" title=\"102,009\">102k</span>"
      ]
     },
     "execution_count": 216,
     "metadata": {},
     "output_type": "execute_result"
    }
   ],
   "source": [
    "star_tags[0]"
   ]
  },
  {
   "cell_type": "code",
   "execution_count": 232,
   "id": "de9df2a2-9d5d-4e66-b288-4199ff6d7535",
   "metadata": {},
   "outputs": [
    {
     "data": {
      "text/plain": [
       "'102k'"
      ]
     },
     "execution_count": 232,
     "metadata": {},
     "output_type": "execute_result"
    }
   ],
   "source": [
    "star_tags[0].text"
   ]
  },
  {
   "cell_type": "code",
   "execution_count": 224,
   "id": "7299b036-e27e-4049-991f-41266fd95189",
   "metadata": {},
   "outputs": [
    {
     "data": {
      "text/plain": [
       "'102'"
      ]
     },
     "execution_count": 224,
     "metadata": {},
     "output_type": "execute_result"
    }
   ],
   "source": [
    "star_tags[0].text[:-1]    # getting everything except the last character"
   ]
  },
  {
   "cell_type": "code",
   "execution_count": 228,
   "id": "94fa914c-8956-4cdb-89ed-191d4d24da18",
   "metadata": {},
   "outputs": [],
   "source": [
    "# let's define a function to convert the star count to integers\n",
    "def parse_star_count(star_str):\n",
    "    star_str = star_str.strip()\n",
    "    if star_str[-1] == 'k':\n",
    "        return int(float(star_str[:-1])*1000)\n",
    "    return int(star_str)"
   ]
  },
  {
   "cell_type": "code",
   "execution_count": 234,
   "id": "b487b49e-bd35-4952-98f9-211a5f15ae70",
   "metadata": {},
   "outputs": [
    {
     "data": {
      "text/plain": [
       "102000"
      ]
     },
     "execution_count": 234,
     "metadata": {},
     "output_type": "execute_result"
    }
   ],
   "source": [
    "# let's check our function\n",
    "parse_star_count(star_tags[0].text)"
   ]
  },
  {
   "cell_type": "code",
   "execution_count": 293,
   "id": "d63698cd-0442-45ec-8eef-e56da5e87f5b",
   "metadata": {},
   "outputs": [
    {
     "data": {
      "text/plain": [
       "('mrdoob', 'three.js', 102000, 'https://github.com/mrdoob/three.js')"
      ]
     },
     "execution_count": 293,
     "metadata": {},
     "output_type": "execute_result"
    }
   ],
   "source": [
    "def get_repo_info(h3_repo_tags,star_count_tags):      # h3 tags is a parameter.In reality we have repo tags containing all the h3 tags\n",
    "    a_tags = h3_repo_tags.find_all('a')\n",
    "    username = a_tags[0].text.strip()\n",
    "    repo_name = a_tags[1].text.strip()\n",
    "    repo_URL = 'https://github.com'+ a_tags[1]['href']\n",
    "    stars = parse_star_count(star_count_tags.text.strip())\n",
    "    return username , repo_name , stars , repo_URL\n",
    "\n",
    "get_repo_info(repo_tags[0] , star_tags[0])"
   ]
  },
  {
   "cell_type": "code",
   "execution_count": 240,
   "id": "74aca217-1d7f-48a2-8a6c-7735bb5f8741",
   "metadata": {},
   "outputs": [],
   "source": [
    "# Now we can do this for every title.\n",
    "# we are going to use 'for' loop and store each data in a dictionary\n",
    "# Creating a empty dict first\n",
    "topic_repos_dict = {'Username':[],\n",
    "                  'Repository_name' : [],\n",
    "                  'Stars' : [] ,\n",
    "                  'repo_URL' : []}\n",
    "\n",
    "for i in range(len(repo_tags)):\n",
    "    repo_data = get_repo_info(repo_tags[i] , star_tags[i])\n",
    "    topic_repos_dict['Username'].append(repo_data[0])\n",
    "    topic_repos_dict['Repository_name'].append(repo_data[1])\n",
    "    topic_repos_dict['Stars'].append(repo_data[2])\n",
    "    topic_repos_dict['repo_URL'].append(repo_data[3])"
   ]
  },
  {
   "cell_type": "code",
   "execution_count": 242,
   "id": "d7297452-ca89-4585-abf8-682bf80f6786",
   "metadata": {
    "scrolled": true
   },
   "outputs": [
    {
     "data": {
      "text/plain": [
       "{'Username': ['mrdoob',\n",
       "  'pmndrs',\n",
       "  'libgdx',\n",
       "  'BabylonJS',\n",
       "  'ssloy',\n",
       "  'FreeCAD',\n",
       "  'lettier',\n",
       "  'aframevr',\n",
       "  'blender',\n",
       "  'CesiumGS',\n",
       "  'MonoGame',\n",
       "  'isl-org',\n",
       "  'mapbox',\n",
       "  '4ian',\n",
       "  'metafizzy',\n",
       "  'timzhang642',\n",
       "  'nerfstudio-project',\n",
       "  'FyroxEngine',\n",
       "  'domlysz',\n",
       "  'a1studmuffin'],\n",
       " 'Repository_name': ['three.js',\n",
       "  'react-three-fiber',\n",
       "  'libgdx',\n",
       "  'Babylon.js',\n",
       "  'tinyrenderer',\n",
       "  'FreeCAD',\n",
       "  '3d-game-shaders-for-beginners',\n",
       "  'aframe',\n",
       "  'blender',\n",
       "  'cesium',\n",
       "  'MonoGame',\n",
       "  'Open3D',\n",
       "  'mapbox-gl-js',\n",
       "  'GDevelop',\n",
       "  'zdog',\n",
       "  '3D-Machine-Learning',\n",
       "  'nerfstudio',\n",
       "  'Fyrox',\n",
       "  'BlenderGIS',\n",
       "  'SpaceshipGenerator'],\n",
       " 'Stars': [102000,\n",
       "  27200,\n",
       "  23200,\n",
       "  23100,\n",
       "  20400,\n",
       "  19300,\n",
       "  17800,\n",
       "  16600,\n",
       "  12900,\n",
       "  12800,\n",
       "  11400,\n",
       "  11300,\n",
       "  11100,\n",
       "  10500,\n",
       "  10400,\n",
       "  9700,\n",
       "  9300,\n",
       "  7700,\n",
       "  7700,\n",
       "  7700],\n",
       " 'repo_URL': ['https://github.com/mrdoob/three.js',\n",
       "  'https://github.com/pmndrs/react-three-fiber',\n",
       "  'https://github.com/libgdx/libgdx',\n",
       "  'https://github.com/BabylonJS/Babylon.js',\n",
       "  'https://github.com/ssloy/tinyrenderer',\n",
       "  'https://github.com/FreeCAD/FreeCAD',\n",
       "  'https://github.com/lettier/3d-game-shaders-for-beginners',\n",
       "  'https://github.com/aframevr/aframe',\n",
       "  'https://github.com/blender/blender',\n",
       "  'https://github.com/CesiumGS/cesium',\n",
       "  'https://github.com/MonoGame/MonoGame',\n",
       "  'https://github.com/isl-org/Open3D',\n",
       "  'https://github.com/mapbox/mapbox-gl-js',\n",
       "  'https://github.com/4ian/GDevelop',\n",
       "  'https://github.com/metafizzy/zdog',\n",
       "  'https://github.com/timzhang642/3D-Machine-Learning',\n",
       "  'https://github.com/nerfstudio-project/nerfstudio',\n",
       "  'https://github.com/FyroxEngine/Fyrox',\n",
       "  'https://github.com/domlysz/BlenderGIS',\n",
       "  'https://github.com/a1studmuffin/SpaceshipGenerator']}"
      ]
     },
     "execution_count": 242,
     "metadata": {},
     "output_type": "execute_result"
    }
   ],
   "source": [
    "topic_repos_dict"
   ]
  },
  {
   "cell_type": "code",
   "execution_count": 246,
   "id": "360bc781-e4ed-4a58-9433-f1bf4b3a08fa",
   "metadata": {},
   "outputs": [],
   "source": [
    "topic_repos_df = pd.DataFrame(topic_repos_dict)"
   ]
  },
  {
   "cell_type": "code",
   "execution_count": 248,
   "id": "389a1c10-b590-45d3-a609-812400a68025",
   "metadata": {},
   "outputs": [
    {
     "data": {
      "text/html": [
       "<div>\n",
       "<style scoped>\n",
       "    .dataframe tbody tr th:only-of-type {\n",
       "        vertical-align: middle;\n",
       "    }\n",
       "\n",
       "    .dataframe tbody tr th {\n",
       "        vertical-align: top;\n",
       "    }\n",
       "\n",
       "    .dataframe thead th {\n",
       "        text-align: right;\n",
       "    }\n",
       "</style>\n",
       "<table border=\"1\" class=\"dataframe\">\n",
       "  <thead>\n",
       "    <tr style=\"text-align: right;\">\n",
       "      <th></th>\n",
       "      <th>Username</th>\n",
       "      <th>Repository_name</th>\n",
       "      <th>Stars</th>\n",
       "      <th>repo_URL</th>\n",
       "    </tr>\n",
       "  </thead>\n",
       "  <tbody>\n",
       "    <tr>\n",
       "      <th>0</th>\n",
       "      <td>mrdoob</td>\n",
       "      <td>three.js</td>\n",
       "      <td>102000</td>\n",
       "      <td>https://github.com/mrdoob/three.js</td>\n",
       "    </tr>\n",
       "    <tr>\n",
       "      <th>1</th>\n",
       "      <td>pmndrs</td>\n",
       "      <td>react-three-fiber</td>\n",
       "      <td>27200</td>\n",
       "      <td>https://github.com/pmndrs/react-three-fiber</td>\n",
       "    </tr>\n",
       "    <tr>\n",
       "      <th>2</th>\n",
       "      <td>libgdx</td>\n",
       "      <td>libgdx</td>\n",
       "      <td>23200</td>\n",
       "      <td>https://github.com/libgdx/libgdx</td>\n",
       "    </tr>\n",
       "    <tr>\n",
       "      <th>3</th>\n",
       "      <td>BabylonJS</td>\n",
       "      <td>Babylon.js</td>\n",
       "      <td>23100</td>\n",
       "      <td>https://github.com/BabylonJS/Babylon.js</td>\n",
       "    </tr>\n",
       "    <tr>\n",
       "      <th>4</th>\n",
       "      <td>ssloy</td>\n",
       "      <td>tinyrenderer</td>\n",
       "      <td>20400</td>\n",
       "      <td>https://github.com/ssloy/tinyrenderer</td>\n",
       "    </tr>\n",
       "  </tbody>\n",
       "</table>\n",
       "</div>"
      ],
      "text/plain": [
       "    Username    Repository_name   Stars  \\\n",
       "0     mrdoob           three.js  102000   \n",
       "1     pmndrs  react-three-fiber   27200   \n",
       "2     libgdx             libgdx   23200   \n",
       "3  BabylonJS         Babylon.js   23100   \n",
       "4      ssloy       tinyrenderer   20400   \n",
       "\n",
       "                                      repo_URL  \n",
       "0           https://github.com/mrdoob/three.js  \n",
       "1  https://github.com/pmndrs/react-three-fiber  \n",
       "2             https://github.com/libgdx/libgdx  \n",
       "3      https://github.com/BabylonJS/Babylon.js  \n",
       "4        https://github.com/ssloy/tinyrenderer  "
      ]
     },
     "execution_count": 248,
     "metadata": {},
     "output_type": "execute_result"
    }
   ],
   "source": [
    "topic_repos_df.head()"
   ]
  },
  {
   "cell_type": "code",
   "execution_count": 295,
   "id": "3ef99966-1e5a-42d6-912d-e55767062d96",
   "metadata": {},
   "outputs": [],
   "source": [
    "def getting_inside_topic(page_url):    # the page URL is one topic inside the github topics\n",
    "    # getting the url using the 'requests' library\n",
    "    response = requests.get(page_url)\n",
    "    #parsing the url with beautiful_soup\n",
    "    docs_topic = BeautifulSoup(response.text , 'html.parser')\n",
    "    #getting the repo tags\n",
    "    h3_repo_tags = docs_topic.find_all('h3' , {'class': \"f3 color-fg-muted text-normal lh-condensed\"})\n",
    "    # getting the star tags\n",
    "    star_count_tags = docs_topic.find_all('span' , {'class':\"Counter js-social-count\"})\n",
    "\n",
    "    topic_repos_dict = {'Username':[],\n",
    "                  'Repository_name' : [],\n",
    "                  'Stars' : [] ,\n",
    "                  'repo_URL' : []}\n",
    "    for i in range(len(h3_repo_tags)):\n",
    "        repo_data = get_repo_info(h3_repo_tags[i] , star_count_tags[i])\n",
    "        topic_repos_dict['Username'].append(repo_data[0])\n",
    "        topic_repos_dict['Repository_name'].append(repo_data[1])\n",
    "        topic_repos_dict['Stars'].append(repo_data[2])\n",
    "        topic_repos_dict['repo_URL'].append(repo_data[3])\n",
    "\n",
    "    return pd.DataFrame(topic_repos_dict)"
   ]
  },
  {
   "cell_type": "code",
   "execution_count": 301,
   "id": "5428b78f-3cc3-402d-946a-b586e0ecb98a",
   "metadata": {},
   "outputs": [],
   "source": [
    "# we have defined three functions \n",
    "# 1. parse_star_count()  : to convert the star counts into integers\n",
    "# 2. get_repo_info()  : to get the username,repo_name,stars_counts and repo_url inside each individual topic page url\n",
    "# 3. getting_inside_topic() :  to get request of the url,to parse it and to collect data using \"get_repo_info()\" and create a dataframe."
   ]
  },
  {
   "cell_type": "code",
   "execution_count": 303,
   "id": "1fdf5615-4485-4599-8166-5dfe840b829c",
   "metadata": {},
   "outputs": [
    {
     "data": {
      "text/plain": [
       "'https://github.com/topics/amphp'"
      ]
     },
     "execution_count": 303,
     "metadata": {},
     "output_type": "execute_result"
    }
   ],
   "source": [
    "# let's check a random topic url from our URL_lst\n",
    "url_third = URL_lst[3]\n",
    "url_third"
   ]
  },
  {
   "cell_type": "code",
   "execution_count": 305,
   "id": "8c4def23-ee1e-4a81-b5e6-ab9ca686387e",
   "metadata": {},
   "outputs": [
    {
     "data": {
      "text/html": [
       "<div>\n",
       "<style scoped>\n",
       "    .dataframe tbody tr th:only-of-type {\n",
       "        vertical-align: middle;\n",
       "    }\n",
       "\n",
       "    .dataframe tbody tr th {\n",
       "        vertical-align: top;\n",
       "    }\n",
       "\n",
       "    .dataframe thead th {\n",
       "        text-align: right;\n",
       "    }\n",
       "</style>\n",
       "<table border=\"1\" class=\"dataframe\">\n",
       "  <thead>\n",
       "    <tr style=\"text-align: right;\">\n",
       "      <th></th>\n",
       "      <th>Username</th>\n",
       "      <th>Repository_name</th>\n",
       "      <th>Stars</th>\n",
       "      <th>repo_URL</th>\n",
       "    </tr>\n",
       "  </thead>\n",
       "  <tbody>\n",
       "    <tr>\n",
       "      <th>0</th>\n",
       "      <td>amphp</td>\n",
       "      <td>amp</td>\n",
       "      <td>4200</td>\n",
       "      <td>https://github.com/amphp/amp</td>\n",
       "    </tr>\n",
       "    <tr>\n",
       "      <th>1</th>\n",
       "      <td>danog</td>\n",
       "      <td>MadelineProto</td>\n",
       "      <td>2800</td>\n",
       "      <td>https://github.com/danog/MadelineProto</td>\n",
       "    </tr>\n",
       "    <tr>\n",
       "      <th>2</th>\n",
       "      <td>unreal4u</td>\n",
       "      <td>telegram-api</td>\n",
       "      <td>790</td>\n",
       "      <td>https://github.com/unreal4u/telegram-api</td>\n",
       "    </tr>\n",
       "    <tr>\n",
       "      <th>3</th>\n",
       "      <td>amphp</td>\n",
       "      <td>parallel</td>\n",
       "      <td>776</td>\n",
       "      <td>https://github.com/amphp/parallel</td>\n",
       "    </tr>\n",
       "    <tr>\n",
       "      <th>4</th>\n",
       "      <td>amphp</td>\n",
       "      <td>http-client</td>\n",
       "      <td>701</td>\n",
       "      <td>https://github.com/amphp/http-client</td>\n",
       "    </tr>\n",
       "    <tr>\n",
       "      <th>5</th>\n",
       "      <td>amphp</td>\n",
       "      <td>byte-stream</td>\n",
       "      <td>365</td>\n",
       "      <td>https://github.com/amphp/byte-stream</td>\n",
       "    </tr>\n",
       "    <tr>\n",
       "      <th>6</th>\n",
       "      <td>amphp</td>\n",
       "      <td>mysql</td>\n",
       "      <td>358</td>\n",
       "      <td>https://github.com/amphp/mysql</td>\n",
       "    </tr>\n",
       "    <tr>\n",
       "      <th>7</th>\n",
       "      <td>php-service-bus</td>\n",
       "      <td>service-bus</td>\n",
       "      <td>348</td>\n",
       "      <td>https://github.com/php-service-bus/service-bus</td>\n",
       "    </tr>\n",
       "    <tr>\n",
       "      <th>8</th>\n",
       "      <td>amphp</td>\n",
       "      <td>parallel-functions</td>\n",
       "      <td>269</td>\n",
       "      <td>https://github.com/amphp/parallel-functions</td>\n",
       "    </tr>\n",
       "    <tr>\n",
       "      <th>9</th>\n",
       "      <td>xtrime-ru</td>\n",
       "      <td>TelegramRSS</td>\n",
       "      <td>230</td>\n",
       "      <td>https://github.com/xtrime-ru/TelegramRSS</td>\n",
       "    </tr>\n",
       "    <tr>\n",
       "      <th>10</th>\n",
       "      <td>amphp</td>\n",
       "      <td>socket</td>\n",
       "      <td>228</td>\n",
       "      <td>https://github.com/amphp/socket</td>\n",
       "    </tr>\n",
       "    <tr>\n",
       "      <th>11</th>\n",
       "      <td>amphp</td>\n",
       "      <td>process</td>\n",
       "      <td>228</td>\n",
       "      <td>https://github.com/amphp/process</td>\n",
       "    </tr>\n",
       "    <tr>\n",
       "      <th>12</th>\n",
       "      <td>amphp</td>\n",
       "      <td>sync</td>\n",
       "      <td>160</td>\n",
       "      <td>https://github.com/amphp/sync</td>\n",
       "    </tr>\n",
       "    <tr>\n",
       "      <th>13</th>\n",
       "      <td>amphp</td>\n",
       "      <td>redis</td>\n",
       "      <td>156</td>\n",
       "      <td>https://github.com/amphp/redis</td>\n",
       "    </tr>\n",
       "    <tr>\n",
       "      <th>14</th>\n",
       "      <td>amphp</td>\n",
       "      <td>dns</td>\n",
       "      <td>156</td>\n",
       "      <td>https://github.com/amphp/dns</td>\n",
       "    </tr>\n",
       "    <tr>\n",
       "      <th>15</th>\n",
       "      <td>amphp</td>\n",
       "      <td>websocket-client</td>\n",
       "      <td>144</td>\n",
       "      <td>https://github.com/amphp/websocket-client</td>\n",
       "    </tr>\n",
       "    <tr>\n",
       "      <th>16</th>\n",
       "      <td>kelunik</td>\n",
       "      <td>acme</td>\n",
       "      <td>121</td>\n",
       "      <td>https://github.com/kelunik/acme</td>\n",
       "    </tr>\n",
       "    <tr>\n",
       "      <th>17</th>\n",
       "      <td>amphp</td>\n",
       "      <td>websocket-server</td>\n",
       "      <td>114</td>\n",
       "      <td>https://github.com/amphp/websocket-server</td>\n",
       "    </tr>\n",
       "    <tr>\n",
       "      <th>18</th>\n",
       "      <td>amphp</td>\n",
       "      <td>serialization</td>\n",
       "      <td>109</td>\n",
       "      <td>https://github.com/amphp/serialization</td>\n",
       "    </tr>\n",
       "    <tr>\n",
       "      <th>19</th>\n",
       "      <td>amphp</td>\n",
       "      <td>cache</td>\n",
       "      <td>98</td>\n",
       "      <td>https://github.com/amphp/cache</td>\n",
       "    </tr>\n",
       "  </tbody>\n",
       "</table>\n",
       "</div>"
      ],
      "text/plain": [
       "           Username     Repository_name  Stars  \\\n",
       "0             amphp                 amp   4200   \n",
       "1             danog       MadelineProto   2800   \n",
       "2          unreal4u        telegram-api    790   \n",
       "3             amphp            parallel    776   \n",
       "4             amphp         http-client    701   \n",
       "5             amphp         byte-stream    365   \n",
       "6             amphp               mysql    358   \n",
       "7   php-service-bus         service-bus    348   \n",
       "8             amphp  parallel-functions    269   \n",
       "9         xtrime-ru         TelegramRSS    230   \n",
       "10            amphp              socket    228   \n",
       "11            amphp             process    228   \n",
       "12            amphp                sync    160   \n",
       "13            amphp               redis    156   \n",
       "14            amphp                 dns    156   \n",
       "15            amphp    websocket-client    144   \n",
       "16          kelunik                acme    121   \n",
       "17            amphp    websocket-server    114   \n",
       "18            amphp       serialization    109   \n",
       "19            amphp               cache     98   \n",
       "\n",
       "                                          repo_URL  \n",
       "0                     https://github.com/amphp/amp  \n",
       "1           https://github.com/danog/MadelineProto  \n",
       "2         https://github.com/unreal4u/telegram-api  \n",
       "3                https://github.com/amphp/parallel  \n",
       "4             https://github.com/amphp/http-client  \n",
       "5             https://github.com/amphp/byte-stream  \n",
       "6                   https://github.com/amphp/mysql  \n",
       "7   https://github.com/php-service-bus/service-bus  \n",
       "8      https://github.com/amphp/parallel-functions  \n",
       "9         https://github.com/xtrime-ru/TelegramRSS  \n",
       "10                 https://github.com/amphp/socket  \n",
       "11                https://github.com/amphp/process  \n",
       "12                   https://github.com/amphp/sync  \n",
       "13                  https://github.com/amphp/redis  \n",
       "14                    https://github.com/amphp/dns  \n",
       "15       https://github.com/amphp/websocket-client  \n",
       "16                 https://github.com/kelunik/acme  \n",
       "17       https://github.com/amphp/websocket-server  \n",
       "18          https://github.com/amphp/serialization  \n",
       "19                  https://github.com/amphp/cache  "
      ]
     },
     "execution_count": 305,
     "metadata": {},
     "output_type": "execute_result"
    }
   ],
   "source": [
    "# \"parse_star_count()\" function is already applied inside the \"get_repo_info()\" function\n",
    "# \"get_repo_info()\" function is applied inside the \"getting_inside-topic()\" function\n",
    "\n",
    "getting_inside_topic(url_third)  # as you see ,we have successfully created a dataframe out of this."
   ]
  },
  {
   "cell_type": "code",
   "execution_count": 309,
   "id": "6db7bf5a-0c68-44ae-a30d-dde2c61933d9",
   "metadata": {},
   "outputs": [],
   "source": [
    "# let's also create a csv file for the same dataframe which we have created above\n",
    "getting_inside_topic(url_third).to_csv('amphp.csv' , index =None)"
   ]
  },
  {
   "cell_type": "code",
   "execution_count": null,
   "id": "fd75af8a-c81b-4d84-a5f3-b45efceb79be",
   "metadata": {},
   "outputs": [],
   "source": []
  }
 ],
 "metadata": {
  "kernelspec": {
   "display_name": "Python 3 (ipykernel)",
   "language": "python",
   "name": "python3"
  },
  "language_info": {
   "codemirror_mode": {
    "name": "ipython",
    "version": 3
   },
   "file_extension": ".py",
   "mimetype": "text/x-python",
   "name": "python",
   "nbconvert_exporter": "python",
   "pygments_lexer": "ipython3",
   "version": "3.12.4"
  }
 },
 "nbformat": 4,
 "nbformat_minor": 5
}
